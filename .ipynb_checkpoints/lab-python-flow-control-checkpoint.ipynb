{
 "cells": [
  {
   "cell_type": "markdown",
   "id": "d3bfc191-8885-42ee-b0a0-bbab867c6f9f",
   "metadata": {
    "tags": []
   },
   "source": [
    "# Lab | Flow Control"
   ]
  },
  {
   "cell_type": "markdown",
   "id": "3851fcd1-cf98-4653-9c89-e003b7ec9400",
   "metadata": {},
   "source": [
    "## Exercise: Managing Customer Orders Optimized\n",
    "\n",
    "In the last lab, you were starting an online store that sells various products. To ensure smooth operations, you developed a program that manages customer orders and inventory.\n",
    "\n",
    "You did so without using flow control. Let's go a step further and improve this code.\n",
    "\n",
    "Follow the steps below to complete the exercise:\n",
    "\n",
    "1. Look at your code from the lab data structures, and improve repeated code with loops.\n",
    "\n",
    "2. Instead of asking the user to input the name of three products that a customer wants to order, do the following:\n",
    "    \n",
    "    a. Prompt the user to enter the name of a product that a customer wants to order.\n",
    "    \n",
    "    b. Add the product name to the \"customer_orders\" set.\n",
    "    \n",
    "    c. Ask the user if they want to add another product (yes/no).\n",
    "    \n",
    "    d. Continue the loop until the user does not want to add another product.\n",
    "\n",
    "3. Instead of updating the inventory by subtracting 1 from the quantity of each product, only do it for  the products that were ordered (those in \"customer_orders\")."
   ]
  },
  {
   "cell_type": "code",
   "execution_count": null,
   "id": "388a3a71-982d-47a3-ac52-de7532698ac9",
   "metadata": {
    "scrolled": true
   },
   "outputs": [],
   "source": [
    "'''\n",
    "products = [\"t-shirt\", \"mug\", \"hat\", \"book\", \"keychain\"]\n",
    "inventory = {}\n",
    "for product in products:\n",
    "  inventory[product] = int(input(f\"Please enter the quantity of the {product}: \"))\n",
    "\n",
    "customer_orders = []\n",
    "for product in range(3):\n",
    "  customer_orders.append(input(\"Please enter the name of the product you want to order: \"))\n",
    "print(customer_orders)\n",
    "'''\n",
    "\n",
    "#Improvment \n",
    "\n",
    "products = [\"t-shirt\", \"mug\", \"hat\", \"book\", \"keychain\"]\n",
    "inventory = {}\n",
    "for product in products:\n",
    "  inventory[product] = int(input(f\"Please enter the quantity of the {product}: \"))\n",
    "\n",
    "customer_orders = []  \n",
    "for product in range(3):\n",
    "  customer_orders.append(input(\"Please enter the name of the product you want to order: \").lower()) #adding a .lower() method in order to avoid different capitalization \n",
    "print(customer_orders)\n"
   ]
  },
  {
   "cell_type": "code",
   "execution_count": null,
   "id": "23d4822a",
   "metadata": {
    "scrolled": true
   },
   "outputs": [],
   "source": [
    "# Second syntax\n",
    "''' \n",
    "for key, value in inventory.items():   #print the dict. in seperate line.\n",
    "  print(key, value) \n",
    "''' \n",
    "\n",
    "# Improvment\n",
    "# printing the updated dict in seperate line with a loop.\n",
    "print(\"Current inventory: \")\n",
    "for key, value in inventory.items():\n",
    "    print(f'{key}', f'{value}')"
   ]
  },
  {
   "cell_type": "code",
   "execution_count": null,
   "id": "df58fda8",
   "metadata": {},
   "outputs": [],
   "source": [
    "#2\n",
    "products = [\"t-shirt\", \"mug\", \"hat\", \"book\", \"keychain\"]\n",
    "inventory = {}\n",
    "for product in products:\n",
    "  inventory[product] = int(input(f\"Please enter the quantity of the {product}: \"))\n",
    "    \n",
    "customer_orders = set()\n",
    "\n",
    "continue_order = \"yes\"\n",
    "\n",
    "while continue_order == \"yes\":\n",
    "    product_name = input(\"Please enter the name of the product you'd like to order: \") #a\n",
    "    customer_orders.add(product_name) #b\n",
    "#print(customer_orders) #to check if the ordered product is added to the customer_orders set.\n",
    "    continue_order = input(\"Would you like to add another product? (yes/no): \").lower()\n",
    "        \n",
    "print(\"customer_orders:\", customer_orders)   \n",
    "\n",
    "total_products_ordered = customer_orders  # answer for the question 3. \n",
    "print(\"Customer orders:\", total_products_ordered)\n",
    "\n",
    "for product_ordered in total_products_ordered:\n",
    "    if product_ordered in inventory:\n",
    "        inventory[product_ordered] -= 1\n",
    "print(inventory)"
   ]
  },
  {
   "cell_type": "code",
   "execution_count": null,
   "id": "7f62cf95-27fd-4f43-808a-e34df2062bc6",
   "metadata": {
    "scrolled": true
   },
   "outputs": [],
   "source": [
    "# second option for question 2. what I thought in the begining, it's still works but that's quite tiring and repeating. \n",
    "customer_orders = set()\n",
    "product_name = input(\"Please enter the name of the product you'd like to order: \") #a\n",
    "customer_orders.add(product_name) #b\n",
    "continue_order = input(\"Would you like to add another product? (yes/no): \").lower()\n",
    "while continue_order == \"yes\":\n",
    "    product_name = input(\"Please enter the name of the product you'd like to order: \")\n",
    "    customer_orders.add(product_name)\n",
    "    continue_order = input(\"Would you like to add another product? (yes/no): \").lower()\n",
    "\n",
    "print(\"Customer orders:\", customer_orders)"
   ]
  },
  {
   "cell_type": "code",
   "execution_count": null,
   "id": "eba5c7f0-46cb-4674-93ed-2c25d6c2b739",
   "metadata": {},
   "outputs": [],
   "source": []
  }
 ],
 "metadata": {
  "kernelspec": {
   "display_name": "Python 3 (ipykernel)",
   "language": "python",
   "name": "python3"
  },
  "language_info": {
   "codemirror_mode": {
    "name": "ipython",
    "version": 3
   },
   "file_extension": ".py",
   "mimetype": "text/x-python",
   "name": "python",
   "nbconvert_exporter": "python",
   "pygments_lexer": "ipython3",
   "version": "3.12.4"
  }
 },
 "nbformat": 4,
 "nbformat_minor": 5
}
